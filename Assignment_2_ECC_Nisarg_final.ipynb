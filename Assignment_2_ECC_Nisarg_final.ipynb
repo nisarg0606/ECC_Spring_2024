{
 "cells": [
  {
   "attachments": {},
   "cell_type": "markdown",
   "id": "b664eeb4-c7c3-45d3-84cb-7b62bd38636a",
   "metadata": {},
   "source": [
    "### NY Parking Violations"
   ]
  },
  {
   "cell_type": "code",
   "execution_count": 41,
   "id": "fc3e28ff-8435-4e77-b352-7157e2b7d366",
   "metadata": {},
   "outputs": [],
   "source": [
    "# Checking if pyspark is installed properly and its path is right\n",
    "\n",
    "import pyspark\n",
    "import findspark\n",
    "\n",
    "findspark.init()"
   ]
  },
  {
   "cell_type": "code",
   "execution_count": 42,
   "id": "c0c4494f-bb75-46f7-a9fb-08ef2513a9bf",
   "metadata": {},
   "outputs": [],
   "source": [
    "# Importing all the required libraries\n",
    "import scipy\n",
    "import scipy.spatial\n",
    "import numpy as np\n",
    "import pandas as pd\n",
    "import sys\n",
    "import pyspark \n",
    "from pyspark.sql import Row\n",
    "from pyspark.sql import functions as pysf\n",
    "from pyspark.sql.window import Window\n",
    "from pyspark.sql.functions import desc, when, count, col, sum, regexp_replace,expr, avg, first\n",
    "from pyspark.ml.clustering import KMeans\n",
    "from pyspark.ml.feature import VectorAssembler\n",
    "from pyspark.sql import SparkSession \n",
    "from pyspark.sql import functions as Func\n",
    "from pyspark.sql.types import IntegerType\n",
    "from pyspark import SparkContext, SparkConf\n",
    "from functools import reduce"
   ]
  },
  {
   "cell_type": "markdown",
   "id": "60be1b4b",
   "metadata": {},
   "source": [
    "### Creating a spark session to work with spark dataframes and spark sql.\n",
    "#### Setting the configurations for the spark session.\n",
    "- Using 4 cores\n",
    "- Name of the application\n",
    "- Setting the memory for the executor to 8g\n",
    "- Setting the memory for the driver to 8g\n",
    "- Setting the memory overhead for the executor to 4g\n",
    "- Setting the default file system to hdfs"
   ]
  },
  {
   "cell_type": "code",
   "execution_count": 43,
   "id": "644ade88-6d7b-4f34-b28d-2673abbc0d2b",
   "metadata": {},
   "outputs": [],
   "source": [
    "spark = SparkSession.builder\\\n",
    "    .master(\"local[4]\")\\\n",
    "    .appName(\"Assignment2\") \\\n",
    "    .config(\"spark.executor.memory\", \"8g\") \\\n",
    "    .config(\"spark.driver.memory\", \"8g\") \\\n",
    "    .config(\"spark.executor.memoryOverhead\", \"4g\") \\\n",
    "    .config(\"spark.hadoop.fs.defaultFS\", \"hdfs://localhost:9000\") \\\n",
    "    .getOrCreate()"
   ]
  },
  {
   "cell_type": "markdown",
   "id": "5aa48937",
   "metadata": {},
   "source": [
    "Let's load the data into a pandas dataframe and take a look at the data. This data is the latest one which was available on the NYC Open Data website. The data is from 2024."
   ]
  },
  {
   "cell_type": "code",
   "execution_count": 44,
   "id": "d3009365-05fe-4615-beb8-5df0e7652de1",
   "metadata": {},
   "outputs": [
    {
     "name": "stderr",
     "output_type": "stream",
     "text": [
      "                                                                                \r"
     ]
    }
   ],
   "source": [
    "parking_df = spark.read.csv(\"hdfs://localhost:9000/Parking_Violations_Issued_-_Fiscal_Year_2024_20240411.csv\", header=True, inferSchema=True)"
   ]
  },
  {
   "cell_type": "code",
   "execution_count": 45,
   "id": "6b1e3d20-2e85-4424-99d8-b7fed4073ed6",
   "metadata": {
    "scrolled": true
   },
   "outputs": [
    {
     "name": "stdout",
     "output_type": "stream",
     "text": [
      "+--------------+--------+------------------+----------+----------+--------------+-----------------+------------+--------------+------------+------------+------------+-----------------------+------------------+------------------+---------------+-----------+--------------+------------+--------------+-------------------+----------------+---------------------------------+------------+--------------+-------------------+-------------------+-----------+------------+--------------------+--------------------------+--------------------+------------------+-------------+---------------------+------------+------------+--------------+-------------------+---------------------+---------------------------------+-----------------+------------------------+\n",
      "|Summons Number|Plate ID|Registration State|Plate Type|Issue Date|Violation Code|Vehicle Body Type|Vehicle Make|Issuing Agency|Street Code1|Street Code2|Street Code3|Vehicle Expiration Date|Violation Location|Violation Precinct|Issuer Precinct|Issuer Code|Issuer Command|Issuer Squad|Violation Time|Time First Observed|Violation County|Violation In Front Of Or Opposite|House Number|   Street Name|Intersecting Street|Date First Observed|Law Section|Sub Division|Violation Legal Code|Days Parking In Effect    |From Hours In Effect|To Hours In Effect|Vehicle Color|Unregistered Vehicle?|Vehicle Year|Meter Number|Feet From Curb|Violation Post Code|Violation Description|No Standing or Stopping Violation|Hydrant Violation|Double Parking Violation|\n",
      "+--------------+--------+------------------+----------+----------+--------------+-----------------+------------+--------------+------------+------------+------------+-----------------------+------------------+------------------+---------------+-----------+--------------+------------+--------------+-------------------+----------------+---------------------------------+------------+--------------+-------------------+-------------------+-----------+------------+--------------------+--------------------------+--------------------+------------------+-------------+---------------------+------------+------------+--------------+-------------------+---------------------+---------------------------------+-----------------+------------------------+\n",
      "|    1159637337| KZH2758|                NY|       PAS|06/09/2023|            67|              VAN|       HONDA|             P|           0|           0|           0|               20250201|                43|                43|             43|     972773|          0043|        0000|         0911A|               NULL|              BX|                             NULL|        NULL|I/O TAYLOR AVE|           GUERLAIN|                  0|        408|          E5|                NULL|                   BBBBBBB|                 ALL|               ALL|         BLUE|                    0|        2006|           -|             0|               NULL|                 NULL|                             NULL|             NULL|                    NULL|\n",
      "|    1252960645| JPD8746|                NY|       PAS|06/30/2023|            87|             SUBN|       LINCO|             M|       17870|       25390|       32670|               20240210|                14|                14|            968|     271057|          0968|        0000|         0717A|               NULL|              NY|                                O|          51|     E 44TH ST|               NULL|                  0|        408|           D|                NULL|                   BBBBBBB|                 ALL|               ALL|         GRAY|                    0|        2020|           -|             0|               NULL|                 NULL|                             NULL|             NULL|                    NULL|\n",
      "|    1252960669| JPD8746|                NY|       PAS|06/30/2023|            31|             SUBN|       LINCO|             M|       17870|       25390|       32670|               20240210|                14|                14|            968|     271057|          0968|        0000|         0823A|               NULL|            NULL|                                O|          51| E 44TH STREET|               NULL|                  0|        408|          O3|                NULL|                   BBBBBBB|                 ALL|               ALL|         GRAY|                    0|        2020|           -|             0|               NULL|                 NULL|                             NULL|             NULL|                    NULL|\n",
      "|    1252994126| MBH9245|                99|       PAS|07/06/2023|            20|              SDN|         KIA|             M|       12690|       41700|       61090|               20231231|               108|               108|            968|     272834|          0968|        0000|         1150P|               NULL|            NULL|                                F|       39-41|       60TH ST|               NULL|                  0|        408|           D|                NULL|                   BBBBBBB|                 ALL|               ALL|        WHITE|                    0|           0|           -|             0|               NULL|                 NULL|                             NULL|             NULL|                    NULL|\n",
      "|    1252994175| MBH9245|                PA|       PAS|07/08/2023|            40|              SDN|         KIA|             M|       12690|       41700|       61090|               20231231|               108|               108|            968|     272834|          0968|        0000|         1150P|               NULL|               Q|                                F|       39-41|       60TH ST|               NULL|                  0|        408|           D|                NULL|                   BBBBBBB|                 ALL|               ALL|        WHITE|                    0|           0|           -|             0|               NULL|                 NULL|                             NULL|             NULL|                    NULL|\n",
      "|    1307574919| LBZ7486|                NY|       PAS|07/01/2023|            14|             SUBN|       HONDA|             P|           0|           0|           0|               20250518|               110|               110|            169|     947343|          0169|        0000|         0618P|               NULL|               Q|                             NULL|        NULL|    C/O 126 ST|             38 AVE|                  0|        408|          E2|                NULL|                   BBBBBBB|                 ALL|               ALL|           BK|                    0|        2014|           -|             0|               NULL|                 NULL|                             NULL|             NULL|                    NULL|\n",
      "|    1307574944| JRB4166|                FL|       PAS|06/07/2023|            46|             SUBN|       HONDA|             P|        8690|       21690|       21740|               20240312|               110|               110|            169|     947343|          0169|        0000|         0246P|               NULL|               Q|                                F|      126 05|        36 AVE|               NULL|                  0|        408|          C3|                NULL|                   BBBBBBB|                 ALL|               ALL|         NULL|                    0|           0|           -|             0|               NULL|                 NULL|                             NULL|             NULL|                    NULL|\n",
      "|    1307575950|LCA7360J|                NY|       PAS|06/21/2023|            46|             SUBN|       HONDA|             P|           0|       61090|           0|               20250430|               110|               110|            169|     969119|          0169|        0000|         0620P|               NULL|               Q|                             NULL|        NULL|   STADIUM P N|      ROOSEVELT AVE|                  0|        408|          F2|                NULL|                   BBBBBBB|                 ALL|               ALL|          GRY|                    0|        2015|           -|             0|               NULL|                 NULL|                             NULL|             NULL|                    NULL|\n",
      "|    1307575973| HNE3840|                NY|       PAS|06/21/2023|            14|              SDN|       MAZDA|             P|           0|           0|           0|               20250221|               110|               110|            169|     969119|          0169|        0000|         0625P|               NULL|               Q|                             NULL|        NULL|   STADIUM P N|          ROOSEVELT|                  0|        408|           C|                NULL|                   BBBBBBB|                 ALL|               ALL|          WHT|                    0|        2020|           -|             0|               NULL|                 NULL|                             NULL|             NULL|                    NULL|\n",
      "|    1307576886| LAG7093|                NY|       OMT|06/03/2023|            46|              SDN|       HONDA|             P|           0|       40404|       40404|               20250129|               110|               110|            110|     961387|          0110|        0000|         0230P|               NULL|               Q|                                F|          41|    SEAVER WAY|               NULL|                  0|        408|          F7|                NULL|                   BBBBBBB|                 ALL|               ALL|         BLUE|                    0|        2006|           -|             0|               NULL|                 NULL|                             NULL|             NULL|                    NULL|\n",
      "+--------------+--------+------------------+----------+----------+--------------+-----------------+------------+--------------+------------+------------+------------+-----------------------+------------------+------------------+---------------+-----------+--------------+------------+--------------+-------------------+----------------+---------------------------------+------------+--------------+-------------------+-------------------+-----------+------------+--------------------+--------------------------+--------------------+------------------+-------------+---------------------+------------+------------+--------------+-------------------+---------------------+---------------------------------+-----------------+------------------------+\n",
      "only showing top 10 rows\n",
      "\n"
     ]
    }
   ],
   "source": [
    "parking_df.show(10)"
   ]
  },
  {
   "cell_type": "markdown",
   "id": "71605cc4",
   "metadata": {},
   "source": [
    "- `from pyspark.sql.functions import col, count, when`: This line imports necessary functions from the PySpark SQL module. `col()` function is used to reference DataFrame columns, `count()` function is used to count non-null values, and `when()` function is used to define conditional expressions.\n",
    "- `from functools import reduce`: This line imports the `reduce()` function from the `functools` module. It's used later in the code for reducing the lists of DataFrames.\n",
    "\n",
    "Here, `num_threads` is set to 6, indicating the number of parallel threads or processes that will be used for computation."
   ]
  },
  {
   "cell_type": "code",
   "execution_count": 46,
   "id": "10038a76",
   "metadata": {},
   "outputs": [],
   "source": [
    "from pyspark.sql.functions import col, count, when\n",
    "from functools import reduce\n",
    "\n",
    "# Specify the number of threads\n",
    "num_threads = 6"
   ]
  },
  {
   "cell_type": "markdown",
   "id": "03dc59af",
   "metadata": {},
   "source": [
    "This line splits the columns of the DataFrame `parking_df` into `num_threads` groups. Each group will be processed by a separate thread. The slicing operation `parking_df.columns[i::num_threads]` divides the columns into groups based on the remainder of the division by `num_threads`."
   ]
  },
  {
   "cell_type": "code",
   "execution_count": 47,
   "id": "c0257176-6cea-45cb-afc5-56483843c321",
   "metadata": {},
   "outputs": [],
   "source": [
    "# Split the columns into groups based on the number of threads\n",
    "columns_per_thread = [parking_df.columns[i::num_threads] for i in range(num_threads)]"
   ]
  },
  {
   "cell_type": "markdown",
   "id": "256e097f",
   "metadata": {},
   "source": [
    "This loop iterates over each group of columns and counts the number of null values for each column in parallel using PySpark DataFrame API:\n",
    "- `count(when(col(c).isNull(), c))`: This expression counts the number of null values in each column `c`.\n",
    "- `.alias(c)`: This assigns a name to the count result corresponding to the original column name `c`.\n",
    "- `parking_df.select(...)`: This selects the count of null values for each column in the current group of columns.\n",
    "- `.collect()`: This triggers the computation and collects the results as a list of Row objects.\n",
    "- The counts for each group of columns are appended to the `counts_per_thread` list.\n",
    "\n",
    "The loop also prints a message indicating the processing progress for each thread.\n",
    "\n",
    "This code is designed to efficiently count null values in DataFrame columns in parallel across multiple threads, which can improve performance for large datasets."
   ]
  },
  {
   "cell_type": "code",
   "execution_count": 48,
   "id": "a6b97d85",
   "metadata": {},
   "outputs": [
    {
     "name": "stdout",
     "output_type": "stream",
     "text": [
      "Processing thread 1/6...\n"
     ]
    },
    {
     "name": "stderr",
     "output_type": "stream",
     "text": [
      "                                                                                \r"
     ]
    },
    {
     "name": "stdout",
     "output_type": "stream",
     "text": [
      "Processing thread 2/6...\n"
     ]
    },
    {
     "name": "stderr",
     "output_type": "stream",
     "text": [
      "                                                                                \r"
     ]
    },
    {
     "name": "stdout",
     "output_type": "stream",
     "text": [
      "Processing thread 3/6...\n"
     ]
    },
    {
     "name": "stderr",
     "output_type": "stream",
     "text": [
      "                                                                                \r"
     ]
    },
    {
     "name": "stdout",
     "output_type": "stream",
     "text": [
      "Processing thread 4/6...\n"
     ]
    },
    {
     "name": "stderr",
     "output_type": "stream",
     "text": [
      "                                                                                \r"
     ]
    },
    {
     "name": "stdout",
     "output_type": "stream",
     "text": [
      "Processing thread 5/6...\n"
     ]
    },
    {
     "name": "stderr",
     "output_type": "stream",
     "text": [
      "                                                                                \r"
     ]
    },
    {
     "name": "stdout",
     "output_type": "stream",
     "text": [
      "Processing thread 6/6...\n"
     ]
    },
    {
     "name": "stderr",
     "output_type": "stream",
     "text": [
      "                                                                                \r"
     ]
    }
   ],
   "source": [
    "# Initialize an empty list to store counts per thread\n",
    "counts_per_thread = []\n",
    "\n",
    "# Iterate through the columns_per_thread list\n",
    "for i, columns in enumerate(columns_per_thread):\n",
    "    print(f\"Processing thread {i + 1}/{num_threads}...\")\n",
    "\n",
    "    # Select columns with null counts, alias them with column names, and collect the counts\n",
    "    counts = parking_df.select([count(when(col(c).isNull(), c)).alias(c) for c in columns]).collect()\n",
    "\n",
    "    # Append the counts for the current thread to the counts_per_thread list\n",
    "    counts_per_thread.append(counts)\n"
   ]
  },
  {
   "cell_type": "markdown",
   "id": "4338f06f",
   "metadata": {},
   "source": [
    "The next part of the code uses the reduce() function from the functools module to combine the counts from each thread into a single total count."
   ]
  },
  {
   "cell_type": "code",
   "execution_count": 49,
   "id": "b11c942d-0ef8-4b96-9583-06b4d189a17e",
   "metadata": {},
   "outputs": [
    {
     "data": {
      "text/plain": [
       "[Row(Summons Number=0, Vehicle Body Type=28486, Vehicle Expiration Date=0, Issuer Squad=5292644, Street Name=1507, Days Parking In Effect    =5014718, Meter Number=9381186, Double Parking Violation=10717482),\n",
       " Row(Plate ID=1, Vehicle Make=10679, Violation Location=4923863, Violation Time=336, Intersecting Street=4980009, From Hours In Effect=7338955, Feet From Curb=0),\n",
       " Row(Registration State=0, Issuing Agency=0, Violation Precinct=0, Time First Observed=10087137, Date First Observed=0, To Hours In Effect=7338965, Violation Post Code=5519326),\n",
       " Row(Plate Type=0, Street Code1=0, Issuer Precinct=0, Violation County=102892, Law Section=0, Vehicle Color=1015121, Violation Description=227812),\n",
       " Row(Issue Date=0, Street Code2=0, Issuer Code=0, Violation In Front Of Or Opposite=4973482, Sub Division=1767, Unregistered Vehicle?=10490502, No Standing or Stopping Violation=10717482),\n",
       " Row(Violation Code=0, Street Code3=0, Issuer Command=4918591, House Number=5015875, Violation Legal Code=5799044, Vehicle Year=0, Hydrant Violation=10717482)]"
      ]
     },
     "execution_count": 49,
     "metadata": {},
     "output_type": "execute_result"
    }
   ],
   "source": [
    "total_counts = reduce(lambda x, y: x + y, counts_per_thread)\n",
    "\n",
    "total_counts"
   ]
  },
  {
   "cell_type": "markdown",
   "id": "efc171dd",
   "metadata": {},
   "source": [
    "- `reduce(lambda x, y: x + y, counts_per_thread)`: This line uses the reduce() function to sum the counts from each thread (counts_per_thread). It takes a lambda function that adds two lists together (x + y) and applies it cumulatively to the list of counts."
   ]
  },
  {
   "attachments": {},
   "cell_type": "markdown",
   "id": "e019ef0f-7c4e-4793-82a5-81dc31839165",
   "metadata": {},
   "source": [
    "#### Part 1"
   ]
  },
  {
   "attachments": {},
   "cell_type": "markdown",
   "id": "e03a13d2-dd1d-46a1-ab79-a025a1e423ed",
   "metadata": {},
   "source": [
    "##### Question 1\n",
    "\n",
    "When are tickets most likely to be issued?"
   ]
  },
  {
   "cell_type": "code",
   "execution_count": 50,
   "id": "8f15fe81",
   "metadata": {},
   "outputs": [],
   "source": [
    "# Creating a temporary view named \"nyc_data\" for easy querying of the dataset using SQL\n",
    "parking_df.createTempView(\"nyc_data\")"
   ]
  },
  {
   "cell_type": "code",
   "execution_count": 51,
   "id": "5dcd362c-fa8d-42b8-98e7-370095eabe63",
   "metadata": {},
   "outputs": [
    {
     "name": "stderr",
     "output_type": "stream",
     "text": [
      "[Stage 21:============================================>           (12 + 3) / 15]\r"
     ]
    },
    {
     "name": "stdout",
     "output_type": "stream",
     "text": [
      "+--------------+-----+\n",
      "|Violation Time|count|\n",
      "+--------------+-----+\n",
      "|         0836A|20112|\n",
      "|         0839A|19531|\n",
      "|         0840A|19436|\n",
      "|         0838A|19433|\n",
      "|         0906A|19412|\n",
      "|         1139A|19255|\n",
      "|         1140A|19154|\n",
      "|         1141A|19135|\n",
      "|         0841A|18987|\n",
      "|         1142A|18936|\n",
      "+--------------+-----+\n",
      "only showing top 10 rows\n",
      "\n"
     ]
    },
    {
     "name": "stderr",
     "output_type": "stream",
     "text": [
      "                                                                                \r"
     ]
    }
   ],
   "source": [
    "# Executing an SQL query to count the frequency of each violation time\n",
    "# Selecting the \"Violation Time\" column and counting the occurrences of each distinct value\n",
    "# Grouping the results by \"Violation Time\" and ordering them in descending order based on count\n",
    "# Limiting the output to the top 30 records\n",
    "question1 = spark.sql('''\n",
    "    SELECT `Violation Time`, COUNT(*) AS count \n",
    "    FROM nyc_data \n",
    "    GROUP BY `Violation Time` \n",
    "    ORDER BY count DESC \n",
    "    LIMIT 30\n",
    "''')\n",
    "\n",
    "# Displaying the top 10 violation times along with their respective counts\n",
    "question1.show(10)"
   ]
  },
  {
   "cell_type": "markdown",
   "id": "4119bc8d",
   "metadata": {},
   "source": [
    "### Observations:\n",
    "- The tickets are most likely to be issued from 08:36 AM to around 11:42 AM."
   ]
  },
  {
   "attachments": {},
   "cell_type": "markdown",
   "id": "fd8e4139-1733-4024-a8e0-7bba814dd481",
   "metadata": {},
   "source": [
    "##### Question 2\n",
    "\n",
    "What are the most common years and types of cars to be ticketed?"
   ]
  },
  {
   "cell_type": "code",
   "execution_count": 52,
   "id": "4a058468-3f1a-43a8-b780-98e1cd482f14",
   "metadata": {},
   "outputs": [
    {
     "name": "stderr",
     "output_type": "stream",
     "text": [
      "[Stage 24:============================================>           (12 + 3) / 15]\r"
     ]
    },
    {
     "name": "stdout",
     "output_type": "stream",
     "text": [
      "+------------+------------+---------------+\n",
      "|Vehicle Type|Vehicle Year|Violation Count|\n",
      "+------------+------------+---------------+\n",
      "|        SUBN|        2021|         468827|\n",
      "|        SUBN|        2022|         452375|\n",
      "|        SUBN|        2023|         447136|\n",
      "|        SUBN|        2019|         345019|\n",
      "|        SUBN|        2020|         343284|\n",
      "|        SUBN|        2018|         275701|\n",
      "|        SUBN|        2017|         226830|\n",
      "|        SUBN|        2016|         186232|\n",
      "|        SUBN|        2015|         180923|\n",
      "|        4DSD|        2017|         155318|\n",
      "+------------+------------+---------------+\n",
      "only showing top 10 rows\n",
      "\n"
     ]
    },
    {
     "name": "stderr",
     "output_type": "stream",
     "text": [
      "                                                                                \r"
     ]
    }
   ],
   "source": [
    "# Writing a Spark SQL query to count the number of violations for each vehicle body type and year\n",
    "# Filtering out records where vehicle body type is not null and vehicle year is greater than 0\n",
    "# Casting the \"Vehicle Year\" column to integer format and renaming it as \"Vehicle Year\"\n",
    "# Grouping the results by \"Vehicle Body Type\" and \"Vehicle Year\"\n",
    "# Ordering the results in descending order based on violation count\n",
    "# Displaying the top 20 vehicle types along with their respective years and violation counts\n",
    "question2 = spark.sql('''\n",
    "    SELECT `Vehicle Body Type` AS `Vehicle Type`, \n",
    "           CAST(`Vehicle Year` AS INT) AS `Vehicle Year`, \n",
    "           COUNT(*) AS `Violation Count` \n",
    "    FROM nyc_data \n",
    "    WHERE `Vehicle Body Type` IS NOT NULL AND `Vehicle Year` > 0 \n",
    "    GROUP BY `Vehicle Body Type`, `Vehicle Year` \n",
    "    ORDER BY `Violation Count` DESC\n",
    "''')\n",
    "\n",
    "# Displaying the top 10 vehicle types along with their respective years and violation counts\n",
    "question2.show(10)"
   ]
  },
  {
   "cell_type": "markdown",
   "id": "86afbb20",
   "metadata": {},
   "source": [
    "### Observations:\n",
    "- The most common years of cars to be ticketed are 2023, 2022 and 2021.\n",
    "- We can see that SUBN is the most common type of car to be ticketed and the second most common type is 4DSD."
   ]
  },
  {
   "attachments": {},
   "cell_type": "markdown",
   "id": "cc0e4ba4-45b9-45f8-83a3-e3d78709ea17",
   "metadata": {},
   "source": [
    "##### Question 3\n",
    "\n",
    "Where are tickets most commonly issued?"
   ]
  },
  {
   "cell_type": "code",
   "execution_count": 53,
   "id": "ae2022c1-848e-49a4-a68b-a649a919af0c",
   "metadata": {},
   "outputs": [
    {
     "name": "stderr",
     "output_type": "stream",
     "text": [
      "[Stage 27:============================================>           (12 + 3) / 15]\r"
     ]
    },
    {
     "name": "stdout",
     "output_type": "stream",
     "text": [
      "+-----------------+------------------+\n",
      "|Number_of_tickets|Violation Location|\n",
      "+-----------------+------------------+\n",
      "|          4923863|              NULL|\n",
      "|           276203|                19|\n",
      "|           213205|               114|\n",
      "|           207636|                 6|\n",
      "|           189589|                13|\n",
      "|           178348|                14|\n",
      "|           153765|               109|\n",
      "|           148286|                 1|\n",
      "|           147809|                18|\n",
      "|           142074|                 9|\n",
      "|           135832|               115|\n",
      "|           116439|                61|\n",
      "|           115903|                66|\n",
      "|           115747|                20|\n",
      "|           109812|               112|\n",
      "+-----------------+------------------+\n",
      "only showing top 15 rows\n",
      "\n"
     ]
    },
    {
     "name": "stderr",
     "output_type": "stream",
     "text": [
      "                                                                                \r"
     ]
    }
   ],
   "source": [
    "# Writing a Spark SQL query to count the number of violations for each violation location\n",
    "# Grouping the dataset by the \"Violation Location\" column\n",
    "# Counting the number of tickets for each violation location\n",
    "# Ordering the results in descending order based on the number of tickets\n",
    "# Displaying the top 15 violation locations along with their respective number of tickets\n",
    "part3 = spark.sql('''\n",
    "    SELECT COUNT(*) AS Number_of_tickets, `Violation Location` \n",
    "    FROM nyc_data \n",
    "    GROUP BY `Violation Location` \n",
    "    ORDER BY Number_of_tickets DESC\n",
    "''')\n",
    "\n",
    "# Displaying the top 15 violation locations along with their respective number of tickets\n",
    "part3.show(15)"
   ]
  },
  {
   "cell_type": "markdown",
   "id": "9ef4bff4",
   "metadata": {},
   "source": [
    "##### Removing null values from the results and displaying the top 15 locations where tickets are most commonly issued."
   ]
  },
  {
   "cell_type": "code",
   "execution_count": 54,
   "id": "1a42732b-3741-4c04-a7e4-d2f4fc751ac1",
   "metadata": {},
   "outputs": [
    {
     "name": "stderr",
     "output_type": "stream",
     "text": [
      "[Stage 30:============================================>           (12 + 3) / 15]\r"
     ]
    },
    {
     "name": "stdout",
     "output_type": "stream",
     "text": [
      "+-----------------+------------------+\n",
      "|Number_of_tickets|Violation Location|\n",
      "+-----------------+------------------+\n",
      "|           276203|                19|\n",
      "|           213205|               114|\n",
      "|           207636|                 6|\n",
      "|           189589|                13|\n",
      "|           178348|                14|\n",
      "|           153765|               109|\n",
      "|           148286|                 1|\n",
      "|           147809|                18|\n",
      "|           142074|                 9|\n",
      "|           135832|               115|\n",
      "|           116439|                61|\n",
      "|           115903|                66|\n",
      "|           115747|                20|\n",
      "|           109812|               112|\n",
      "|           107721|                70|\n",
      "+-----------------+------------------+\n",
      "only showing top 15 rows\n",
      "\n"
     ]
    },
    {
     "name": "stderr",
     "output_type": "stream",
     "text": [
      "                                                                                \r"
     ]
    }
   ],
   "source": [
    "# Wrote another Spark SQL query that takes care of the NULL location\n",
    "part3_en = spark.sql('''SELECT COUNT(*) AS Number_of_tickets, `Violation Location` FROM nyc_data \n",
    "                    WHERE `Violation Location` IS NOT NULL GROUP BY `Violation Location` \n",
    "                    ORDER BY Number_of_tickets DESC''')\n",
    "part3_en.show(15)# Displaying top 15 locations"
   ]
  },
  {
   "cell_type": "markdown",
   "id": "f4ceed57",
   "metadata": {},
   "source": [
    "### Observations:\n",
    "- The tickets are most commonly issued on location 19 and second most commonly issued on location 114."
   ]
  },
  {
   "attachments": {},
   "cell_type": "markdown",
   "id": "6b8a620a-09b3-43d3-927a-24d4f79d7793",
   "metadata": {},
   "source": [
    "##### Question 4\n",
    "\n",
    "Which color of the vehicle is most likely to get a ticket?"
   ]
  },
  {
   "cell_type": "code",
   "execution_count": 55,
   "id": "8a318891-224e-43f9-b906-2ee8af0bb458",
   "metadata": {},
   "outputs": [
    {
     "name": "stderr",
     "output_type": "stream",
     "text": [
      "[Stage 33:====================================================>   (14 + 1) / 15]\r"
     ]
    },
    {
     "name": "stdout",
     "output_type": "stream",
     "text": [
      "+-------------+-------+\n",
      "|Vehicle Color|  count|\n",
      "+-------------+-------+\n",
      "|           GY|2086345|\n",
      "|           WH|1924600|\n",
      "|           BK|1821705|\n",
      "|         NULL|1015121|\n",
      "|           BL| 688919|\n",
      "|        WHITE| 610936|\n",
      "|        BLACK| 401993|\n",
      "|           RD| 393388|\n",
      "|         GREY| 303176|\n",
      "|         BLUE| 140721|\n",
      "+-------------+-------+\n",
      "only showing top 10 rows\n",
      "\n"
     ]
    },
    {
     "name": "stderr",
     "output_type": "stream",
     "text": [
      "                                                                                \r"
     ]
    }
   ],
   "source": [
    "# Wrote a Spark SQL query to count the number of violations for each vehicle color\n",
    "part4 = spark.sql('''SELECT `Vehicle Color`, COUNT(*) AS count FROM nyc_data \n",
    "                    GROUP BY `Vehicle Color`\n",
    "                    ORDER BY count DESC''')\n",
    "part4.show(10)"
   ]
  },
  {
   "cell_type": "markdown",
   "id": "053e44b9",
   "metadata": {},
   "source": [
    "### Observations:\n",
    "- The most common color of the vehicle to get a ticket is GY and the second most common color is WH."
   ]
  },
  {
   "attachments": {},
   "cell_type": "markdown",
   "id": "9a57f679-cb2e-4c46-8692-24f6feb8ed43",
   "metadata": {},
   "source": [
    "#### Part 2: KNN"
   ]
  },
  {
   "attachments": {},
   "cell_type": "markdown",
   "id": "1ca9a0dd-3e08-49ca-87d0-c42dc5f7f61a",
   "metadata": {},
   "source": [
    "##### Question 5\n",
    "\n",
    "Given a Black vehicle parking illegally at 34510, 10030, 34050 (street codes). What is the probability that it will get an ticket?"
   ]
  },
  {
   "cell_type": "code",
   "execution_count": 56,
   "id": "585f9773-8298-475e-8c5e-33d2baf34c56",
   "metadata": {},
   "outputs": [],
   "source": [
    "# Creating a function to find the nearest cluster center to a given data point\n",
    "def nearest_cluster(data_point, cluster_centers):\n",
    "    distances = scipy.spatial.distance.cdist([data_point], cluster_centers, metric=\"sqeuclidean\")\n",
    "    nearest_cluster_id = np.argmin(distances)\n",
    "    return nearest_cluster_id"
   ]
  },
  {
   "cell_type": "code",
   "execution_count": 57,
   "id": "513f8991-3722-43cc-937e-be71d897c960",
   "metadata": {},
   "outputs": [],
   "source": [
    "parking_df = parking_df.selectExpr(\"CAST(`Street Code1` AS FLOAT) AS Street_Code1\",\n",
    "                   \"CAST(`Street Code2` AS FLOAT) AS Street_Code2\",\n",
    "                   \"CAST(`Street Code3` AS FLOAT) AS Street_Code3\",\n",
    "                   \"`Vehicle Color`\")\n",
    "\n",
    "vector_assembler = VectorAssembler(inputCols=[\"Street_Code1\", \"Street_Code2\", \"Street_Code3\"],\n",
    "                                   outputCol=\"features\")\n",
    "\n",
    "parking_df = vector_assembler.transform(parking_df)"
   ]
  },
  {
   "cell_type": "code",
   "execution_count": 58,
   "id": "29247a14-8fb0-4d15-9375-f40b69dc985d",
   "metadata": {},
   "outputs": [
    {
     "name": "stderr",
     "output_type": "stream",
     "text": [
      "                                                                                \r"
     ]
    }
   ],
   "source": [
    "kmeans_nyc = KMeans(k=5)\n",
    "k_means_model = kmeans_nyc.fit(parking_df.select('features'))\n",
    "park_clustered = k_means_model.transform(parking_df).cache()"
   ]
  },
  {
   "cell_type": "code",
   "execution_count": 59,
   "id": "2ed02d0d-458e-4d55-b18c-4dbaefa84e67",
   "metadata": {},
   "outputs": [
    {
     "name": "stderr",
     "output_type": "stream",
     "text": [
      "[Stage 90:============================================>           (12 + 3) / 15]\r"
     ]
    },
    {
     "name": "stdout",
     "output_type": "stream",
     "text": [
      "+------------+------------+------------+-------------+--------------------+----------+\n",
      "|Street_Code1|Street_Code2|Street_Code3|Vehicle Color|            features|prediction|\n",
      "+------------+------------+------------+-------------+--------------------+----------+\n",
      "|         0.0|         0.0|         0.0|         BLUE|           (3,[],[])|         0|\n",
      "|     17870.0|     25390.0|     32670.0|         GRAY|[17870.0,25390.0,...|         4|\n",
      "|     17870.0|     25390.0|     32670.0|         GRAY|[17870.0,25390.0,...|         4|\n",
      "|     12690.0|     41700.0|     61090.0|        WHITE|[12690.0,41700.0,...|         3|\n",
      "|     12690.0|     41700.0|     61090.0|        WHITE|[12690.0,41700.0,...|         3|\n",
      "|         0.0|         0.0|         0.0|           BK|           (3,[],[])|         0|\n",
      "|      8690.0|     21690.0|     21740.0|         NULL|[8690.0,21690.0,2...|         4|\n",
      "|         0.0|     61090.0|         0.0|          GRY|   [0.0,61090.0,0.0]|         4|\n",
      "|         0.0|         0.0|         0.0|          WHT|           (3,[],[])|         0|\n",
      "|         0.0|     40404.0|     40404.0|         BLUE|[0.0,40404.0,4040...|         3|\n",
      "|     59590.0|      9440.0|         0.0|         GREY|[59590.0,9440.0,0.0]|         2|\n",
      "|     37890.0|     51290.0|     51895.0|        WHITE|[37890.0,51290.0,...|         1|\n",
      "|     24090.0|     10290.0|     52490.0|          BLK|[24090.0,10290.0,...|         3|\n",
      "|     23840.0|     57790.0|     42120.0|          RED|[23840.0,57790.0,...|         3|\n",
      "|     28940.0|      9690.0|     57790.0|         GOLD|[28940.0,9690.0,5...|         3|\n",
      "|     21790.0|      5940.0|         0.0|         BLUE|[21790.0,5940.0,0.0]|         0|\n",
      "|     36400.0|     24240.0|     46090.0|         NULL|[36400.0,24240.0,...|         3|\n",
      "|      8440.0|     65490.0|     58590.0|          BLK|[8440.0,65490.0,5...|         3|\n",
      "|      6190.0|     23090.0|     23190.0|           WH|[6190.0,23090.0,2...|         4|\n",
      "|      8590.0|     53390.0|     65490.0|           RD|[8590.0,53390.0,6...|         3|\n",
      "+------------+------------+------------+-------------+--------------------+----------+\n",
      "only showing top 20 rows\n",
      "\n"
     ]
    },
    {
     "name": "stderr",
     "output_type": "stream",
     "text": [
      "                                                                                \r"
     ]
    }
   ],
   "source": [
    "park_clustered.show()"
   ]
  },
  {
   "cell_type": "code",
   "execution_count": 60,
   "id": "adb7d690-dd5a-4599-bf2b-3ccf181344e7",
   "metadata": {},
   "outputs": [],
   "source": [
    "veh_black = ['Black', 'BLAC', 'B LAC', 'BLK', 'BK.', 'BCK', 'BK', 'BLK.', 'BC', 'BK/']\n",
    "prob_veh_black = park_clustered.groupBy('prediction').agg(\n",
    "    count(when(col('Vehicle Color').isin(veh_black), 1)).alias('Count'),\n",
    "    count('Vehicle Color').alias('Total_Cars')\n",
    ").orderBy('prediction')\n",
    "prob_black = prob_veh_black.select(\n",
    "    'prediction',\n",
    "    'Count',\n",
    "    'Total_Cars',\n",
    "    (col('Count') / col('Total_Cars')).alias('Probability')\n",
    ")"
   ]
  },
  {
   "cell_type": "code",
   "execution_count": 61,
   "id": "b469cca9-52de-4e9f-8c24-ca8ccf1d365a",
   "metadata": {},
   "outputs": [
    {
     "name": "stdout",
     "output_type": "stream",
     "text": [
      "+----------+-------+----------+-------------------+\n",
      "|prediction|  Count|Total_Cars|        Probability|\n",
      "+----------+-------+----------+-------------------+\n",
      "|         0|1120938|   4700662|0.23846385892029676|\n",
      "|         1| 149758|    822634|0.18204693703396652|\n",
      "|         2| 211642|   1413362|0.14974366085970897|\n",
      "|         3| 220324|   1260829|0.17474534611751474|\n",
      "|         4| 209949|   1504874|0.13951267680882254|\n",
      "+----------+-------+----------+-------------------+\n",
      "\n"
     ]
    },
    {
     "name": "stderr",
     "output_type": "stream",
     "text": [
      "                                                                                \r"
     ]
    }
   ],
   "source": [
    "prob_black.show()"
   ]
  },
  {
   "cell_type": "code",
   "execution_count": 62,
   "id": "f64a51e5-370a-41e6-9d77-a47644f6c7ad",
   "metadata": {},
   "outputs": [
    {
     "name": "stdout",
     "output_type": "stream",
     "text": [
      "Cluster id for Street Code (34510, 10030, 34050) is: 4\n"
     ]
    }
   ],
   "source": [
    "cluster_centers = np.array(k_means_model.clusterCenters()).astype(float)\n",
    "street_codes = np.array([34510.0, 10030.0, 34050.0])\n",
    "cluster_id = nearest_cluster(street_codes, cluster_centers)\n",
    "\n",
    "print('Cluster id for Street Code (34510, 10030, 34050) is:', cluster_id)"
   ]
  },
  {
   "cell_type": "code",
   "execution_count": 63,
   "id": "3eef1703-f77e-4e13-bf1d-d6e4a5b94cd8",
   "metadata": {},
   "outputs": [
    {
     "name": "stdout",
     "output_type": "stream",
     "text": [
      "+----------+------+----------+-------------------+\n",
      "|prediction| Count|Total_Cars|        Probability|\n",
      "+----------+------+----------+-------------------+\n",
      "|         4|209949|   1504874|0.13951267680882254|\n",
      "+----------+------+----------+-------------------+\n",
      "\n"
     ]
    }
   ],
   "source": [
    "# Displaying the required probability\n",
    "prob_black.filter(col('prediction') == cluster_id).show()"
   ]
  },
  {
   "cell_type": "markdown",
   "id": "5b4787ae",
   "metadata": {},
   "source": [
    "### Observations:\n",
    "- The probability that a Black vehicle parking illegally will get a ticket is 0.139."
   ]
  },
  {
   "attachments": {},
   "cell_type": "markdown",
   "id": "813ab36d-9b08-4675-b49e-ce34b42f4304",
   "metadata": {},
   "source": [
    "### NBA"
   ]
  },
  {
   "attachments": {},
   "cell_type": "markdown",
   "id": "d9ebcb06-cf13-435b-b60f-8c13357cf903",
   "metadata": {},
   "source": [
    "#### Question 1\n",
    "\n",
    "For each pair of the players (A, B), we define the fear sore of A when facing B is the hit rate, such that B is closet defender when A is shooting. Based on the fear sore, for each player, please find out who is his \"most unwanted defender\"."
   ]
  },
  {
   "cell_type": "code",
   "execution_count": 64,
   "id": "1de4654a-d2c2-4baa-a0d1-e2033ebe1c99",
   "metadata": {
    "scrolled": true
   },
   "outputs": [
    {
     "name": "stdout",
     "output_type": "stream",
     "text": [
      "root\n",
      " |-- GAME_ID: integer (nullable = true)\n",
      " |-- MATCHUP: string (nullable = true)\n",
      " |-- LOCATION: string (nullable = true)\n",
      " |-- W: string (nullable = true)\n",
      " |-- FINAL_MARGIN: integer (nullable = true)\n",
      " |-- SHOT_NUMBER: integer (nullable = true)\n",
      " |-- PERIOD: integer (nullable = true)\n",
      " |-- GAME_CLOCK: timestamp (nullable = true)\n",
      " |-- SHOT_CLOCK: double (nullable = true)\n",
      " |-- DRIBBLES: integer (nullable = true)\n",
      " |-- TOUCH_TIME: double (nullable = true)\n",
      " |-- SHOT_DIST: double (nullable = true)\n",
      " |-- PTS_TYPE: integer (nullable = true)\n",
      " |-- SHOT_RESULT: string (nullable = true)\n",
      " |-- CLOSEST_DEFENDER: string (nullable = true)\n",
      " |-- CLOSEST_DEFENDER_PLAYER_ID: integer (nullable = true)\n",
      " |-- CLOSE_DEF_DIST: double (nullable = true)\n",
      " |-- FGM: integer (nullable = true)\n",
      " |-- PTS: integer (nullable = true)\n",
      " |-- player_name: string (nullable = true)\n",
      " |-- player_id: integer (nullable = true)\n",
      "\n"
     ]
    }
   ],
   "source": [
    "nba_df = spark.read.csv(\"hdfs://localhost:9000/shot_logs.csv\", header=True, inferSchema=True)\n",
    "\n",
    "nba_df.printSchema()"
   ]
  },
  {
   "cell_type": "code",
   "execution_count": 65,
   "id": "82de8c6c-4282-4661-aecb-ebe22483bb29",
   "metadata": {
    "scrolled": true
   },
   "outputs": [
    {
     "name": "stdout",
     "output_type": "stream",
     "text": [
      "+--------+--------------------+--------+---+------------+-----------+------+-------------------+----------+--------+----------+---------+--------+-----------+-----------------+--------------------------+--------------+---+---+-------------+---------+\n",
      "| GAME_ID|             MATCHUP|LOCATION|  W|FINAL_MARGIN|SHOT_NUMBER|PERIOD|         GAME_CLOCK|SHOT_CLOCK|DRIBBLES|TOUCH_TIME|SHOT_DIST|PTS_TYPE|SHOT_RESULT| CLOSEST_DEFENDER|CLOSEST_DEFENDER_PLAYER_ID|CLOSE_DEF_DIST|FGM|PTS|  player_name|player_id|\n",
      "+--------+--------------------+--------+---+------------+-----------+------+-------------------+----------+--------+----------+---------+--------+-----------+-----------------+--------------------------+--------------+---+---+-------------+---------+\n",
      "|21400899|MAR 04, 2015 - CH...|       A|  W|          24|          1|     1|2024-04-13 01:09:00|      10.8|       2|       1.9|      7.7|       2|       made|   Anderson, Alan|                    101187|           1.3|  1|  2|brian roberts|   203148|\n",
      "|21400899|MAR 04, 2015 - CH...|       A|  W|          24|          2|     1|2024-04-13 00:14:00|       3.4|       0|       0.8|     28.2|       3|     missed|Bogdanovic, Bojan|                    202711|           6.1|  0|  0|brian roberts|   203148|\n",
      "|21400899|MAR 04, 2015 - CH...|       A|  W|          24|          3|     1|2024-04-13 00:00:00|      NULL|       3|       2.7|     10.1|       2|     missed|Bogdanovic, Bojan|                    202711|           0.9|  0|  0|brian roberts|   203148|\n",
      "|21400899|MAR 04, 2015 - CH...|       A|  W|          24|          4|     2|2024-04-13 11:47:00|      10.3|       2|       1.9|     17.2|       2|     missed|    Brown, Markel|                    203900|           3.4|  0|  0|brian roberts|   203148|\n",
      "|21400899|MAR 04, 2015 - CH...|       A|  W|          24|          5|     2|2024-04-13 10:34:00|      10.9|       2|       2.7|      3.7|       2|     missed|  Young, Thaddeus|                    201152|           1.1|  0|  0|brian roberts|   203148|\n",
      "|21400899|MAR 04, 2015 - CH...|       A|  W|          24|          6|     2|2024-04-13 08:15:00|       9.1|       2|       4.4|     18.4|       2|     missed|  Williams, Deron|                    101114|           2.6|  0|  0|brian roberts|   203148|\n",
      "|21400899|MAR 04, 2015 - CH...|       A|  W|          24|          7|     4|2024-04-13 10:15:00|      14.5|      11|       9.0|     20.7|       2|     missed|    Jack, Jarrett|                    101127|           6.1|  0|  0|brian roberts|   203148|\n",
      "|21400899|MAR 04, 2015 - CH...|       A|  W|          24|          8|     4|2024-04-13 08:00:00|       3.4|       3|       2.5|      3.5|       2|       made|   Plumlee, Mason|                    203486|           2.1|  1|  2|brian roberts|   203148|\n",
      "|21400899|MAR 04, 2015 - CH...|       A|  W|          24|          9|     4|2024-04-13 05:14:00|      12.4|       0|       0.8|     24.6|       3|     missed|   Morris, Darius|                    202721|           7.3|  0|  0|brian roberts|   203148|\n",
      "|21400890|MAR 03, 2015 - CH...|       H|  W|           1|          1|     2|2024-04-13 11:32:00|      17.4|       0|       1.1|     22.4|       3|     missed| Ellington, Wayne|                    201961|          19.8|  0|  0|brian roberts|   203148|\n",
      "|21400890|MAR 03, 2015 - CH...|       H|  W|           1|          2|     2|2024-04-13 06:30:00|      16.0|       8|       7.5|     24.5|       3|     missed|      Lin, Jeremy|                    202391|           4.7|  0|  0|brian roberts|   203148|\n",
      "|21400890|MAR 03, 2015 - CH...|       H|  W|           1|          3|     4|2024-04-13 11:32:00|      12.1|      14|      11.9|     14.6|       2|       made|      Lin, Jeremy|                    202391|           1.8|  1|  2|brian roberts|   203148|\n",
      "|21400890|MAR 03, 2015 - CH...|       H|  W|           1|          4|     4|2024-04-13 08:55:00|       4.3|       2|       2.9|      5.9|       2|       made|     Hill, Jordan|                    201941|           5.4|  1|  2|brian roberts|   203148|\n",
      "|21400882|MAR 01, 2015 - CH...|       A|  W|          15|          1|     4|2024-04-13 09:10:00|       4.4|       0|       0.8|     26.4|       3|     missed|    Green, Willie|                      2584|           4.4|  0|  0|brian roberts|   203148|\n",
      "|21400859|FEB 27, 2015 - CH...|       A|  L|          -8|          1|     1|2024-04-13 00:48:00|       6.8|       0|       0.5|     22.8|       3|     missed|    Smart, Marcus|                    203935|           5.3|  0|  0|brian roberts|   203148|\n",
      "|21400859|FEB 27, 2015 - CH...|       A|  L|          -8|          2|     2|2024-04-13 10:38:00|       6.4|       3|       2.7|     24.7|       3|       made|     Young, James|                    203923|           5.6|  1|  3|brian roberts|   203148|\n",
      "|21400859|FEB 27, 2015 - CH...|       A|  L|          -8|          3|     2|2024-04-13 08:27:00|      17.6|       6|       5.1|     25.0|       3|     missed|   Jerebko, Jonas|                    201973|           5.4|  0|  0|brian roberts|   203148|\n",
      "|21400859|FEB 27, 2015 - CH...|       A|  L|          -8|          4|     4|2024-04-13 10:55:00|       8.7|       1|       0.9|     25.6|       3|     missed|     Crowder, Jae|                    203109|           5.1|  0|  0|brian roberts|   203148|\n",
      "|21400859|FEB 27, 2015 - CH...|       A|  L|          -8|          5|     4|2024-04-13 10:29:00|      20.8|       0|       1.2|     24.2|       3|       made|   Thomas, Isaiah|                    202738|          11.1|  1|  3|brian roberts|   203148|\n",
      "|21400845|FEB 25, 2015 - CH...|       A|  W|          12|          1|     1|2024-04-13 03:35:00|      17.5|       2|       2.2|     25.4|       3|     missed|    Brooks, Aaron|                    201166|           3.5|  0|  0|brian roberts|   203148|\n",
      "+--------+--------------------+--------+---+------------+-----------+------+-------------------+----------+--------+----------+---------+--------+-----------+-----------------+--------------------------+--------------+---+---+-------------+---------+\n",
      "only showing top 20 rows\n",
      "\n"
     ]
    }
   ],
   "source": [
    "nba_df.show()"
   ]
  },
  {
   "cell_type": "code",
   "execution_count": 66,
   "id": "69933785-a5ac-48dd-bfa8-90f99b96e8e1",
   "metadata": {},
   "outputs": [
    {
     "name": "stdout",
     "output_type": "stream",
     "text": [
      "+--------+----------+-------+-------+\n",
      "|PlayerID|DefenderID|count1s|count0s|\n",
      "+--------+----------+-------+-------+\n",
      "|  203148|    101179|      0|      1|\n",
      "|  202687|    201980|      1|      0|\n",
      "|    2744|      1717|      0|      2|\n",
      "|  203469|    202329|      1|      1|\n",
      "|  201945|    202322|      0|      3|\n",
      "|  202689|    202699|      6|      8|\n",
      "|  202689|    203924|      1|      0|\n",
      "|  203077|      2730|      1|      0|\n",
      "|  203077|    201584|      2|      0|\n",
      "|  202362|    201188|      2|      0|\n",
      "|  202330|    201978|      2|      1|\n",
      "|  202324|    203135|      1|      2|\n",
      "|  203957|      2617|      1|      0|\n",
      "|    2430|    203092|      3|      2|\n",
      "|    2430|    200770|      1|      0|\n",
      "|  202391|    202328|      0|      1|\n",
      "|  101179|    202390|      0|      1|\n",
      "|  201961|    203200|      1|      0|\n",
      "|  202325|    203498|      1|      4|\n",
      "|  203135|    201951|      1|      0|\n",
      "+--------+----------+-------+-------+\n",
      "only showing top 20 rows\n",
      "\n"
     ]
    }
   ],
   "source": [
    "# Grouping the dataframe by player and defender & aggregating the shot statistics\n",
    "nba_grouped_data_df = nba_df.groupBy(col(\"player_id\").alias(\"PlayerID\"), col(\"CLOSEST_DEFENDER_PLAYER_ID\").alias(\"DefenderID\")) \\\n",
    "             .agg(sum(when(col(\"SHOT_RESULT\") == \"made\", 1).otherwise(0)).alias(\"count1s\"), \n",
    "                  sum(when(col(\"SHOT_RESULT\") == \"missed\", 1).otherwise(0)).alias(\"count0s\"))\n",
    "nba_grouped_data_df.show()"
   ]
  },
  {
   "cell_type": "code",
   "execution_count": 67,
   "id": "6af9e9f9-5b05-4ea0-acb0-6ccc67650bbd",
   "metadata": {},
   "outputs": [
    {
     "name": "stdout",
     "output_type": "stream",
     "text": [
      "+--------+----------+-------+-------+\n",
      "|PlayerID|DefenderID|count1s|count0s|\n",
      "+--------+----------+-------+-------+\n",
      "|  203148|    101179|      0|      1|\n",
      "|  202687|    201980|      1|      0|\n",
      "|    2744|      1717|      0|      2|\n",
      "|  203469|    202329|      1|      1|\n",
      "|  201945|    202322|      0|      3|\n",
      "|  202689|    202699|      6|      8|\n",
      "|  202689|    203924|      1|      0|\n",
      "|  203077|      2730|      1|      0|\n",
      "|  203077|    201584|      2|      0|\n",
      "|  202362|    201188|      2|      0|\n",
      "|  202330|    201978|      2|      1|\n",
      "|  202324|    203135|      1|      2|\n",
      "|  203957|      2617|      1|      0|\n",
      "|    2430|    203092|      3|      2|\n",
      "|    2430|    200770|      1|      0|\n",
      "|  202391|    202328|      0|      1|\n",
      "|  101179|    202390|      0|      1|\n",
      "|  201961|    203200|      1|      0|\n",
      "|  202325|    203498|      1|      4|\n",
      "|  203135|    201951|      1|      0|\n",
      "+--------+----------+-------+-------+\n",
      "only showing top 20 rows\n",
      "\n"
     ]
    }
   ],
   "source": [
    "nba_df.createTempView(\"nba_data\")\n",
    "\n",
    "nba_grouped_data_df = spark.sql('''SELECT player_id AS PlayerID, CLOSEST_DEFENDER_PLAYER_ID AS DefenderID, \n",
    "                        SUM(CASE WHEN SHOT_RESULT = 'made' THEN 1 ELSE 0 END) AS count1s, \n",
    "                        SUM(CASE WHEN SHOT_RESULT = 'missed' THEN 1 ELSE 0 END) AS count0s FROM nba_data \n",
    "                        GROUP BY player_id, CLOSEST_DEFENDER_PLAYER_ID''')\n",
    "nba_grouped_data_df.show()"
   ]
  },
  {
   "cell_type": "code",
   "execution_count": 68,
   "id": "de30c010-747b-4fb8-9715-24549e9ee435",
   "metadata": {},
   "outputs": [
    {
     "name": "stdout",
     "output_type": "stream",
     "text": [
      "+--------+----------+-------+-------+-------------------+\n",
      "|PlayerID|DefenderID|count1s|count0s|            HitRate|\n",
      "+--------+----------+-------+-------+-------------------+\n",
      "|  201945|    202322|      0|      3|                0.0|\n",
      "|  203082|    203490|      0|      1|                0.0|\n",
      "|  201600|    202324|      1|      3|               0.25|\n",
      "|  201143|    202700|      7|      2| 0.7777777777777778|\n",
      "|  202330|    201967|      2|      7| 0.2222222222222222|\n",
      "|  201600|    201579|      2|      4| 0.3333333333333333|\n",
      "|  202322|    201565|     13|     16| 0.4482758620689655|\n",
      "|  101162|    201149|      8|      5| 0.6153846153846154|\n",
      "|  201939|    201935|     10|      4| 0.7142857142857143|\n",
      "|     977|    202718|      3|     11|0.21428571428571427|\n",
      "|  202685|    201600|      6|      5| 0.5454545454545454|\n",
      "|  201155|    101145|      1|      4|                0.2|\n",
      "|  203458|    201941|      2|      3|                0.4|\n",
      "|  202681|    202689|     11|     17|0.39285714285714285|\n",
      "|  201228|    101108|      2|      5| 0.2857142857142857|\n",
      "|  202339|    101145|      6|      5| 0.5454545454545454|\n",
      "|  203081|      2555|      2|      0|                1.0|\n",
      "|  201571|    201980|      1|      0|                1.0|\n",
      "|    2549|    101133|      1|      2| 0.3333333333333333|\n",
      "|  201144|    202695|      2|      1| 0.6666666666666666|\n",
      "+--------+----------+-------+-------+-------------------+\n",
      "only showing top 20 rows\n",
      "\n"
     ]
    }
   ],
   "source": [
    "# Calculating the hit rate for each combination (player and defender)\n",
    "nba_grouped_data_df = nba_grouped_data_df.withColumn(\"HitRate\", expr(\"count1s / (count1s + count0s)\"))\n",
    "\n",
    "# Droping duplicates & filtering out records with \"null\" hit rates\n",
    "nba_grouped_data_df = nba_grouped_data_df.dropDuplicates([\"PlayerID\", \"HitRate\"]).filter(\"HitRate is not null\")\n",
    "nba_grouped_data_df.show()"
   ]
  },
  {
   "cell_type": "code",
   "execution_count": 69,
   "id": "5ea58fea-7fa5-459d-887a-0d09ce7a5474",
   "metadata": {},
   "outputs": [],
   "source": [
    "# Grouping & selecting the min hit rate (each player)\n",
    "nba_df_final = nba_grouped_data_df.groupBy(\"PlayerID\").agg({\"HitRate\": \"min\"}).withColumn(\"HitRate\", col(\"min(HitRate)\"))\n",
    "\n",
    "nba_grouped_data_df = nba_grouped_data_df.join(nba_df_final, [\"PlayerID\", \"HitRate\"]).drop(\"HitRate\").select(\"PlayerID\", \"DefenderID\")\n",
    "\n",
    "nba_df_merged = nba_grouped_data_df.join(nba_df, (nba_grouped_data_df[\"PlayerID\"] == nba_df[\"player_id\"]) & (nba_grouped_data_df[\"DefenderID\"] == nba_df[\"CLOSEST_DEFENDER_PLAYER_ID\"]))"
   ]
  },
  {
   "cell_type": "code",
   "execution_count": 70,
   "id": "7bdefcea-fe42-44be-a0c4-2e3cb799837f",
   "metadata": {},
   "outputs": [
    {
     "name": "stdout",
     "output_type": "stream",
     "text": [
      "+--------+----------+--------------+----------------------+\n",
      "|PlayerID|DefenderID|   Player Name|Most Unwanted Defender|\n",
      "+--------+----------+--------------+----------------------+\n",
      "|     708|    203957| kevin garnett|           Exum, Dante|\n",
      "|     977|    203937|   kobe bryant|        Anderson, Kyle|\n",
      "|    1495|    203148|    tim duncan|        Roberts, Brian|\n",
      "|    1713|      2037|  vince carter|       Crawford, Jamal|\n",
      "|    1717|    201581|dirk nowtizski|           Hickson, JJ|\n",
      "|    1718|    203079|   paul pierce|         Waiters, Dion|\n",
      "|    1889|    201168|  andre miller|       Splitter, Tiago|\n",
      "|    1890|    201229|  shawn marion|     Tolliver, Anthony|\n",
      "|    1891|    201572|   jason terry|          Lopez, Brook|\n",
      "|    1938|    203461| manu ginobili|      Bennett, Anthony|\n",
      "+--------+----------+--------------+----------------------+\n",
      "\n"
     ]
    }
   ],
   "source": [
    "# Grouping & selecting relevant columns\n",
    "nba_df_final = nba_df_merged.groupBy(\"PlayerID\", \"DefenderID\") \\\n",
    "                    .agg(first(\"player_name\").alias(\"Player Name\"), first(\"CLOSEST_DEFENDER\").alias(\"Most Unwanted Defender\")) \\\n",
    "                    .orderBy(\"PlayerID\") \\\n",
    "                    .limit(10)\n",
    "\n",
    "nba_df_final.show()"
   ]
  },
  {
   "cell_type": "markdown",
   "id": "2c7955a3",
   "metadata": {},
   "source": [
    "### Observations:\n",
    "- Here we can see Top 10 players and their most unwanted defenders.\n",
    "- For Example, the most unwanted defender for player 'Kevin Garnett' is 'Dante Exum'."
   ]
  },
  {
   "cell_type": "code",
   "execution_count": 71,
   "id": "1a9fa462-33ad-4a01-9ca1-5e0602338ae1",
   "metadata": {},
   "outputs": [],
   "source": [
    "# Creating a copy of the original dataframe just to be safe\n",
    "nba_df_copy = nba_df.select(\"*\")"
   ]
  },
  {
   "attachments": {},
   "cell_type": "markdown",
   "id": "1729ded3-1a4f-495d-8ce7-9f2865daf72d",
   "metadata": {},
   "source": [
    "#### Question 2\n",
    "\n",
    "For each player, we define the comfortable zone of shooting is a matrix of,\n",
    "\n",
    "{SHOT DIST, CLOSE DEF DIST, SHOT CLOCK}\n",
    "\n",
    "Please develop a Spark-based algorithm to classify each player's records into 4 comfortable zones. Considering the hit rate, which zone is the best for James Harden, Chris Paul, Stephen Curry, and Lebron James."
   ]
  },
  {
   "cell_type": "code",
   "execution_count": 72,
   "id": "8e3405cc-c1f3-4c00-9e99-c26b5ba5c928",
   "metadata": {},
   "outputs": [],
   "source": [
    "# Filtering out rows with null values and converting the shot result to binary\n",
    "nba_df = nba_df.na.drop()\n",
    "nba_df = nba_df.withColumn(\"SHOT_RESULT\", when(col(\"SHOT_RESULT\") == \"made\", 1).otherwise(0))"
   ]
  },
  {
   "cell_type": "code",
   "execution_count": 73,
   "id": "316d3ca5-1596-453b-afc8-fdeb828e6312",
   "metadata": {
    "scrolled": true
   },
   "outputs": [
    {
     "name": "stdout",
     "output_type": "stream",
     "text": [
      "+--------+--------------------+--------+---+------------+-----------+------+-------------------+----------+--------+----------+---------+--------+-----------+-----------------+--------------------------+--------------+---+---+-------------+---------+\n",
      "| GAME_ID|             MATCHUP|LOCATION|  W|FINAL_MARGIN|SHOT_NUMBER|PERIOD|         GAME_CLOCK|SHOT_CLOCK|DRIBBLES|TOUCH_TIME|SHOT_DIST|PTS_TYPE|SHOT_RESULT| CLOSEST_DEFENDER|CLOSEST_DEFENDER_PLAYER_ID|CLOSE_DEF_DIST|FGM|PTS|  player_name|player_id|\n",
      "+--------+--------------------+--------+---+------------+-----------+------+-------------------+----------+--------+----------+---------+--------+-----------+-----------------+--------------------------+--------------+---+---+-------------+---------+\n",
      "|21400899|MAR 04, 2015 - CH...|       A|  W|          24|          1|     1|2024-04-13 01:09:00|      10.8|       2|       1.9|      7.7|       2|          1|   Anderson, Alan|                    101187|           1.3|  1|  2|brian roberts|   203148|\n",
      "|21400899|MAR 04, 2015 - CH...|       A|  W|          24|          2|     1|2024-04-13 00:14:00|       3.4|       0|       0.8|     28.2|       3|          0|Bogdanovic, Bojan|                    202711|           6.1|  0|  0|brian roberts|   203148|\n",
      "|21400899|MAR 04, 2015 - CH...|       A|  W|          24|          4|     2|2024-04-13 11:47:00|      10.3|       2|       1.9|     17.2|       2|          0|    Brown, Markel|                    203900|           3.4|  0|  0|brian roberts|   203148|\n",
      "|21400899|MAR 04, 2015 - CH...|       A|  W|          24|          5|     2|2024-04-13 10:34:00|      10.9|       2|       2.7|      3.7|       2|          0|  Young, Thaddeus|                    201152|           1.1|  0|  0|brian roberts|   203148|\n",
      "|21400899|MAR 04, 2015 - CH...|       A|  W|          24|          6|     2|2024-04-13 08:15:00|       9.1|       2|       4.4|     18.4|       2|          0|  Williams, Deron|                    101114|           2.6|  0|  0|brian roberts|   203148|\n",
      "|21400899|MAR 04, 2015 - CH...|       A|  W|          24|          7|     4|2024-04-13 10:15:00|      14.5|      11|       9.0|     20.7|       2|          0|    Jack, Jarrett|                    101127|           6.1|  0|  0|brian roberts|   203148|\n",
      "|21400899|MAR 04, 2015 - CH...|       A|  W|          24|          8|     4|2024-04-13 08:00:00|       3.4|       3|       2.5|      3.5|       2|          1|   Plumlee, Mason|                    203486|           2.1|  1|  2|brian roberts|   203148|\n",
      "|21400899|MAR 04, 2015 - CH...|       A|  W|          24|          9|     4|2024-04-13 05:14:00|      12.4|       0|       0.8|     24.6|       3|          0|   Morris, Darius|                    202721|           7.3|  0|  0|brian roberts|   203148|\n",
      "|21400890|MAR 03, 2015 - CH...|       H|  W|           1|          1|     2|2024-04-13 11:32:00|      17.4|       0|       1.1|     22.4|       3|          0| Ellington, Wayne|                    201961|          19.8|  0|  0|brian roberts|   203148|\n",
      "|21400890|MAR 03, 2015 - CH...|       H|  W|           1|          2|     2|2024-04-13 06:30:00|      16.0|       8|       7.5|     24.5|       3|          0|      Lin, Jeremy|                    202391|           4.7|  0|  0|brian roberts|   203148|\n",
      "|21400890|MAR 03, 2015 - CH...|       H|  W|           1|          3|     4|2024-04-13 11:32:00|      12.1|      14|      11.9|     14.6|       2|          1|      Lin, Jeremy|                    202391|           1.8|  1|  2|brian roberts|   203148|\n",
      "|21400890|MAR 03, 2015 - CH...|       H|  W|           1|          4|     4|2024-04-13 08:55:00|       4.3|       2|       2.9|      5.9|       2|          1|     Hill, Jordan|                    201941|           5.4|  1|  2|brian roberts|   203148|\n",
      "|21400882|MAR 01, 2015 - CH...|       A|  W|          15|          1|     4|2024-04-13 09:10:00|       4.4|       0|       0.8|     26.4|       3|          0|    Green, Willie|                      2584|           4.4|  0|  0|brian roberts|   203148|\n",
      "|21400859|FEB 27, 2015 - CH...|       A|  L|          -8|          1|     1|2024-04-13 00:48:00|       6.8|       0|       0.5|     22.8|       3|          0|    Smart, Marcus|                    203935|           5.3|  0|  0|brian roberts|   203148|\n",
      "|21400859|FEB 27, 2015 - CH...|       A|  L|          -8|          2|     2|2024-04-13 10:38:00|       6.4|       3|       2.7|     24.7|       3|          1|     Young, James|                    203923|           5.6|  1|  3|brian roberts|   203148|\n",
      "|21400859|FEB 27, 2015 - CH...|       A|  L|          -8|          3|     2|2024-04-13 08:27:00|      17.6|       6|       5.1|     25.0|       3|          0|   Jerebko, Jonas|                    201973|           5.4|  0|  0|brian roberts|   203148|\n",
      "|21400859|FEB 27, 2015 - CH...|       A|  L|          -8|          4|     4|2024-04-13 10:55:00|       8.7|       1|       0.9|     25.6|       3|          0|     Crowder, Jae|                    203109|           5.1|  0|  0|brian roberts|   203148|\n",
      "|21400859|FEB 27, 2015 - CH...|       A|  L|          -8|          5|     4|2024-04-13 10:29:00|      20.8|       0|       1.2|     24.2|       3|          1|   Thomas, Isaiah|                    202738|          11.1|  1|  3|brian roberts|   203148|\n",
      "|21400845|FEB 25, 2015 - CH...|       A|  W|          12|          1|     1|2024-04-13 03:35:00|      17.5|       2|       2.2|     25.4|       3|          0|    Brooks, Aaron|                    201166|           3.5|  0|  0|brian roberts|   203148|\n",
      "|21400845|FEB 25, 2015 - CH...|       A|  W|          12|          2|     1|2024-04-13 00:33:00|      19.5|       5|       4.4|     19.1|       2|          1|    Hinrich, Kirk|                      2550|           4.0|  1|  2|brian roberts|   203148|\n",
      "+--------+--------------------+--------+---+------------+-----------+------+-------------------+----------+--------+----------+---------+--------+-----------+-----------------+--------------------------+--------------+---+---+-------------+---------+\n",
      "only showing top 20 rows\n",
      "\n"
     ]
    }
   ],
   "source": [
    "nba_df.show()"
   ]
  },
  {
   "cell_type": "code",
   "execution_count": 74,
   "id": "72859478-4934-43a6-a8ac-771d0241076f",
   "metadata": {
    "scrolled": true
   },
   "outputs": [
    {
     "name": "stdout",
     "output_type": "stream",
     "text": [
      "+--------+--------------------+--------+---+------------+-----------+------+-------------------+----------+--------+----------+---------+--------+-----------+-----------------+--------------------------+--------------+---+---+-------------+---------+\n",
      "| GAME_ID|             MATCHUP|LOCATION|  W|FINAL_MARGIN|SHOT_NUMBER|PERIOD|         GAME_CLOCK|SHOT_CLOCK|DRIBBLES|TOUCH_TIME|SHOT_DIST|PTS_TYPE|SHOT_RESULT| CLOSEST_DEFENDER|CLOSEST_DEFENDER_PLAYER_ID|CLOSE_DEF_DIST|FGM|PTS|  player_name|player_id|\n",
      "+--------+--------------------+--------+---+------------+-----------+------+-------------------+----------+--------+----------+---------+--------+-----------+-----------------+--------------------------+--------------+---+---+-------------+---------+\n",
      "|21400899|MAR 04, 2015 - CH...|       A|  W|          24|          1|     1|2024-04-13 01:09:00|      10.8|       2|       1.9|      7.7|       2|          1|   Anderson, Alan|                    101187|           1.3|  1|  2|brian roberts|   203148|\n",
      "|21400899|MAR 04, 2015 - CH...|       A|  W|          24|          2|     1|2024-04-13 00:14:00|       3.4|       0|       0.8|     28.2|       3|          0|Bogdanovic, Bojan|                    202711|           6.1|  0|  0|brian roberts|   203148|\n",
      "|21400899|MAR 04, 2015 - CH...|       A|  W|          24|          4|     2|2024-04-13 11:47:00|      10.3|       2|       1.9|     17.2|       2|          0|    Brown, Markel|                    203900|           3.4|  0|  0|brian roberts|   203148|\n",
      "|21400899|MAR 04, 2015 - CH...|       A|  W|          24|          5|     2|2024-04-13 10:34:00|      10.9|       2|       2.7|      3.7|       2|          0|  Young, Thaddeus|                    201152|           1.1|  0|  0|brian roberts|   203148|\n",
      "|21400899|MAR 04, 2015 - CH...|       A|  W|          24|          6|     2|2024-04-13 08:15:00|       9.1|       2|       4.4|     18.4|       2|          0|  Williams, Deron|                    101114|           2.6|  0|  0|brian roberts|   203148|\n",
      "|21400899|MAR 04, 2015 - CH...|       A|  W|          24|          7|     4|2024-04-13 10:15:00|      14.5|      11|       9.0|     20.7|       2|          0|    Jack, Jarrett|                    101127|           6.1|  0|  0|brian roberts|   203148|\n",
      "|21400899|MAR 04, 2015 - CH...|       A|  W|          24|          8|     4|2024-04-13 08:00:00|       3.4|       3|       2.5|      3.5|       2|          1|   Plumlee, Mason|                    203486|           2.1|  1|  2|brian roberts|   203148|\n",
      "|21400899|MAR 04, 2015 - CH...|       A|  W|          24|          9|     4|2024-04-13 05:14:00|      12.4|       0|       0.8|     24.6|       3|          0|   Morris, Darius|                    202721|           7.3|  0|  0|brian roberts|   203148|\n",
      "|21400890|MAR 03, 2015 - CH...|       H|  W|           1|          1|     2|2024-04-13 11:32:00|      17.4|       0|       1.1|     22.4|       3|          0| Ellington, Wayne|                    201961|          19.8|  0|  0|brian roberts|   203148|\n",
      "|21400890|MAR 03, 2015 - CH...|       H|  W|           1|          2|     2|2024-04-13 06:30:00|      16.0|       8|       7.5|     24.5|       3|          0|      Lin, Jeremy|                    202391|           4.7|  0|  0|brian roberts|   203148|\n",
      "|21400890|MAR 03, 2015 - CH...|       H|  W|           1|          3|     4|2024-04-13 11:32:00|      12.1|      14|      11.9|     14.6|       2|          1|      Lin, Jeremy|                    202391|           1.8|  1|  2|brian roberts|   203148|\n",
      "|21400890|MAR 03, 2015 - CH...|       H|  W|           1|          4|     4|2024-04-13 08:55:00|       4.3|       2|       2.9|      5.9|       2|          1|     Hill, Jordan|                    201941|           5.4|  1|  2|brian roberts|   203148|\n",
      "|21400882|MAR 01, 2015 - CH...|       A|  W|          15|          1|     4|2024-04-13 09:10:00|       4.4|       0|       0.8|     26.4|       3|          0|    Green, Willie|                      2584|           4.4|  0|  0|brian roberts|   203148|\n",
      "|21400859|FEB 27, 2015 - CH...|       A|  L|          -8|          1|     1|2024-04-13 00:48:00|       6.8|       0|       0.5|     22.8|       3|          0|    Smart, Marcus|                    203935|           5.3|  0|  0|brian roberts|   203148|\n",
      "|21400859|FEB 27, 2015 - CH...|       A|  L|          -8|          2|     2|2024-04-13 10:38:00|       6.4|       3|       2.7|     24.7|       3|          1|     Young, James|                    203923|           5.6|  1|  3|brian roberts|   203148|\n",
      "|21400859|FEB 27, 2015 - CH...|       A|  L|          -8|          3|     2|2024-04-13 08:27:00|      17.6|       6|       5.1|     25.0|       3|          0|   Jerebko, Jonas|                    201973|           5.4|  0|  0|brian roberts|   203148|\n",
      "|21400859|FEB 27, 2015 - CH...|       A|  L|          -8|          4|     4|2024-04-13 10:55:00|       8.7|       1|       0.9|     25.6|       3|          0|     Crowder, Jae|                    203109|           5.1|  0|  0|brian roberts|   203148|\n",
      "|21400859|FEB 27, 2015 - CH...|       A|  L|          -8|          5|     4|2024-04-13 10:29:00|      20.8|       0|       1.2|     24.2|       3|          1|   Thomas, Isaiah|                    202738|          11.1|  1|  3|brian roberts|   203148|\n",
      "|21400845|FEB 25, 2015 - CH...|       A|  W|          12|          1|     1|2024-04-13 03:35:00|      17.5|       2|       2.2|     25.4|       3|          0|    Brooks, Aaron|                    201166|           3.5|  0|  0|brian roberts|   203148|\n",
      "|21400845|FEB 25, 2015 - CH...|       A|  W|          12|          2|     1|2024-04-13 00:33:00|      19.5|       5|       4.4|     19.1|       2|          1|    Hinrich, Kirk|                      2550|           4.0|  1|  2|brian roberts|   203148|\n",
      "+--------+--------------------+--------+---+------------+-----------+------+-------------------+----------+--------+----------+---------+--------+-----------+-----------------+--------------------------+--------------+---+---+-------------+---------+\n",
      "only showing top 20 rows\n",
      "\n"
     ]
    }
   ],
   "source": [
    "# Selecting the required features\n",
    "features = [\"SHOT_DIST\", \"CLOSE_DEF_DIST\", \"SHOT_CLOCK\"]\n",
    "\n",
    "# Casting the selected features to float\n",
    "nba_df = reduce(lambda df, col: df.withColumn(col, df[col].cast(\"float\")), features, nba_df)\n",
    "nba_df.show()"
   ]
  },
  {
   "cell_type": "code",
   "execution_count": 75,
   "id": "fe810e35-c090-4d09-bcde-73b2d6c3084b",
   "metadata": {},
   "outputs": [
    {
     "name": "stdout",
     "output_type": "stream",
     "text": [
      "+-------------+--------------------+-----------+\n",
      "|  player_name|            features|SHOT_RESULT|\n",
      "+-------------+--------------------+-----------+\n",
      "|brian roberts|[7.69999980926513...|        1.0|\n",
      "|brian roberts|[28.2000007629394...|        0.0|\n",
      "|brian roberts|[17.2000007629394...|        0.0|\n",
      "|brian roberts|[3.70000004768371...|        0.0|\n",
      "|brian roberts|[18.3999996185302...|        0.0|\n",
      "|brian roberts|[20.7000007629394...|        0.0|\n",
      "|brian roberts|[3.5,2.0999999046...|        1.0|\n",
      "|brian roberts|[24.6000003814697...|        0.0|\n",
      "|brian roberts|[22.3999996185302...|        0.0|\n",
      "|brian roberts|[24.5,4.699999809...|        0.0|\n",
      "|brian roberts|[14.6000003814697...|        1.0|\n",
      "|brian roberts|[5.90000009536743...|        1.0|\n",
      "|brian roberts|[26.3999996185302...|        0.0|\n",
      "|brian roberts|[22.7999992370605...|        0.0|\n",
      "|brian roberts|[24.7000007629394...|        1.0|\n",
      "|brian roberts|[25.0,5.400000095...|        0.0|\n",
      "|brian roberts|[25.6000003814697...|        0.0|\n",
      "|brian roberts|[24.2000007629394...|        1.0|\n",
      "|brian roberts|[25.3999996185302...|        0.0|\n",
      "|brian roberts|[19.1000003814697...|        1.0|\n",
      "+-------------+--------------------+-----------+\n",
      "only showing top 20 rows\n",
      "\n"
     ]
    }
   ],
   "source": [
    "# Creating a vector assembler\n",
    "vector_Asmblr = VectorAssembler(inputCols=features, outputCol=\"features\")\n",
    "\n",
    "# Transforming the dataframe\n",
    "nba_df_vector = vector_Asmblr.transform(nba_df).select('player_name', 'features', col('SHOT_RESULT').cast('float').alias('SHOT_RESULT'))\n",
    "nba_df_vector.show()"
   ]
  },
  {
   "cell_type": "markdown",
   "id": "76a675e4",
   "metadata": {},
   "source": [
    "- Above output just shows 'Brian Robers', although it has been run for all the players. (Just to show the output I had displated top 20 rows)"
   ]
  },
  {
   "cell_type": "code",
   "execution_count": 76,
   "id": "f56a50f3-94ba-4260-a7be-4481f59c454f",
   "metadata": {},
   "outputs": [
    {
     "name": "stderr",
     "output_type": "stream",
     "text": [
      "                                                                                \r"
     ]
    }
   ],
   "source": [
    "# Having four clusters since we have 4 comfort zones to determine\n",
    "nba_K_means = KMeans(k=4, seed=1, featuresCol=\"features\")\n",
    "nba_K_model = nba_K_means.fit(nba_df_vector)\n",
    "# players which are mentioned in the question\n",
    "players = ['james harden', 'chris paul', 'stephen curry', 'lebron james']\n",
    "nba_df_vector = nba_df_vector[nba_df_vector['player_name'].isin(players)]"
   ]
  },
  {
   "cell_type": "code",
   "execution_count": 77,
   "id": "0cb60973-c08b-4c60-8f52-ddf7ac8f317a",
   "metadata": {},
   "outputs": [],
   "source": [
    "nba_df_pred = nba_K_model.transform(nba_df_vector).select('player_name', 'prediction', 'SHOT_RESULT')"
   ]
  },
  {
   "cell_type": "code",
   "execution_count": 78,
   "id": "59ac917c-b267-4165-a25f-a7ffa14fd399",
   "metadata": {},
   "outputs": [],
   "source": [
    "# Converting Spark dataframe to Pandas dataframe\n",
    "# This is done so that local computations could be done quite easily\n",
    "nba_df_pred_pd = nba_df_pred.toPandas()\n",
    "nba_df_pred_pd = nba_df_pred_pd[nba_df_pred_pd['player_name'].isin(players)]"
   ]
  },
  {
   "cell_type": "code",
   "execution_count": 79,
   "id": "65da7042-4d53-4178-8a53-63e0be4032a2",
   "metadata": {},
   "outputs": [
    {
     "name": "stdout",
     "output_type": "stream",
     "text": [
      "+-------------+---------+------------------+\n",
      "|  player_name|best_zone|  avg(SHOT_RESULT)|\n",
      "+-------------+---------+------------------+\n",
      "|   chris paul|        0|0.5563380281690141|\n",
      "| james harden|        3|0.5604395604395604|\n",
      "| lebron james|        3|0.6613545816733067|\n",
      "|stephen curry|        3|0.6350710900473934|\n",
      "+-------------+---------+------------------+\n",
      "\n"
     ]
    }
   ],
   "source": [
    "# Grouping the dataframe by player_name and prediction, calculating the mean of SHOT_RESULT for each group,\n",
    "# and sorting the result by player_name and prediction\n",
    "nba_result = nba_df_pred.groupBy(\"player_name\", \"prediction\").mean(\"SHOT_RESULT\").sort(\"player_name\", \"prediction\")\n",
    "\n",
    "# Adding a new column 'best_zone' that contains the maximum average SHOT_RESULT for each player_name\n",
    "# using a Window function to partition by player_name\n",
    "best_zone = nba_result.withColumn('best_zone', pysf.max('avg(SHOT_RESULT)').over(Window.partitionBy(\"player_name\"))) \\\n",
    "                .where(pysf.col('avg(SHOT_RESULT)')==pysf.col('best_zone')).drop('best_zone').withColumnRenamed('prediction', 'best_zone')\n",
    "\n",
    "# Displaying the result with 'prediction' column renamed to 'best_zone'\n",
    "best_zone.show()"
   ]
  },
  {
   "attachments": {},
   "cell_type": "markdown",
   "id": "4bcb3ada-fc70-4107-beb8-5bb29ac82bc7",
   "metadata": {},
   "source": [
    "### Observation:\n",
    "- The best zone for Chris Paul is Zone 0.\n",
    "- The best zone for James Harden, Lebron James, and Stephen Curry is Zone 3."
   ]
  },
  {
   "cell_type": "code",
   "execution_count": 80,
   "id": "562c1e94-e5d1-4669-9174-c66f830a9144",
   "metadata": {},
   "outputs": [],
   "source": [
    "spark.stop()"
   ]
  }
 ],
 "metadata": {
  "kernelspec": {
   "display_name": "Python 3 (ipykernel)",
   "language": "python",
   "name": "python3"
  }
 },
 "nbformat": 4,
 "nbformat_minor": 5
}
